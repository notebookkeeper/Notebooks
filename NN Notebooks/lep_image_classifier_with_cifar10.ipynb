{
  "cells": [
    {
      "cell_type": "markdown",
      "source": [
        "# __Image Classification with CIFAR10__\n",
        "\n",
        "Build a neural network-based classification model to recognize characters using the following metrics:\n",
        "\n",
        "- Use four convolution layers with a 3X3 kernel and activation function as ReLU\n",
        "- Add maximum pooling layers after every other convolution layer and two hidden layers with dropout"
      ],
      "metadata": {
        "id": "bvzfagrqdnYK"
      }
    },
    {
      "cell_type": "markdown",
      "metadata": {
        "id": "gIFsLj8bXZV6"
      },
      "source": [
        "\n",
        "## Steps to Be Followed:\n",
        "\n",
        "1. Loading and normalizing the CIFAR10 training and test datasets using torchvision <br>\n",
        "2. Defining a convolutional neural network <br>\n",
        "3. Defining a loss function <br>\n",
        "4. Training the network on the training data <br>\n",
        "5. Testing the network on the test data <br>"
      ]
    },
    {
      "cell_type": "markdown",
      "source": [
        "### Step 1: Loading and Normalizing the CIFAR10 Training and Test Datasets Using Torchvision\n",
        "- Import the NumPy package\n",
        "- Import the Python package Matplotlib, which sets the padding between and around the subplots as well as the figure size\n",
        "- Import the Torch package, which gives us access to some helpful neural types\n",
        "- Use **torchvision**, as it makes it easy to load CIFAR10"
      ],
      "metadata": {
        "id": "iqG7Jl61g4g6"
      }
    },
    {
      "cell_type": "code",
      "execution_count": null,
      "metadata": {
        "id": "RxTxGezeXZV-"
      },
      "outputs": [],
      "source": [
        "import torch\n",
        "import torchvision\n",
        "import torchvision.transforms as transforms\n"
      ]
    },
    {
      "cell_type": "markdown",
      "source": [
        "Evaluating the Data\n",
        "- The output of **torchvision** datasets consists of PILImage images with pixel values ranging from 0 to 1.\n",
        "\n",
        "- To prepare the data for training, transform the PILImage images into Tensors and normalize their values to a range of -1 to 1.\n",
        "\n",
        "- It's important to inspect the data in array form to gain a better understanding of its structure and characteristics.\n",
        "\n",
        "- Plotting the classes helps visualize the distribution and frequency of different classes in the dataset.\n"
      ],
      "metadata": {
        "id": "HmXQal8KjgSb"
      }
    },
    {
      "cell_type": "code",
      "execution_count": null,
      "metadata": {
        "colab": {
          "base_uri": "https://localhost:8080/"
        },
        "id": "wi7EG7qfXZWB",
        "outputId": "fd4c9926-fcbb-49f3-85f3-f67d2b43f0b8"
      },
      "outputs": [
        {
          "output_type": "stream",
          "name": "stdout",
          "text": [
            "Files already downloaded and verified\n",
            "Files already downloaded and verified\n"
          ]
        }
      ],
      "source": [
        "transform = transforms.Compose(\n",
        "    [transforms.ToTensor(),\n",
        "     transforms.Normalize((0.5, 0.5, 0.5), (0.5, 0.5, 0.5))])\n",
        "\n",
        "trainset = torchvision.datasets.CIFAR10(root='./data', train=True,\n",
        "                                        download=True, transform=transform)\n",
        "trainloader = torch.utils.data.DataLoader(trainset, batch_size=4,\n",
        "                                          shuffle=True, num_workers=2)\n",
        "\n",
        "testset = torchvision.datasets.CIFAR10(root='./data', train=False,\n",
        "                                       download=True, transform=transform)\n",
        "testloader = torch.utils.data.DataLoader(testset, batch_size=4,\n",
        "                                         shuffle=False, num_workers=2)\n",
        "\n",
        "classes = ('plane', 'car', 'bird', 'cat',\n",
        "           'deer', 'dog', 'frog', 'horse', 'ship', 'truck')"
      ]
    },
    {
      "cell_type": "markdown",
      "source": [
        "**Observation:**\n",
        "\n",
        "- The CIFAR10 file has been downloaded."
      ],
      "metadata": {
        "id": "RO0-u2UnkpRe"
      }
    },
    {
      "cell_type": "markdown",
      "source": [
        "Displaying an Image\n",
        "- Import the necessary libraries, including **matplotlib.pyplot**, and **numpy**, for visualizing images.\n",
        "- The **imshow()** function is defined to display an image. It normalizes the pixel values, converts the image to a NumPy array, and uses **plt.imshow()** to show the image.\n",
        "The **dataiter** object is created from the **trainloader** iterator, allowing us to retrieve a batch of images and labels from the dataset.\n",
        "- The first batch of images and their corresponding labels are retrieved using **next (dataiter)**. The **make_grid()** function from **torchvision.utils** is used to create a grid of images, which is then passed to **imshow()** to display the grid of images. The labels of the images are printed using a list comprehension."
      ],
      "metadata": {
        "id": "rfAG-E3OocUL"
      }
    },
    {
      "cell_type": "code",
      "execution_count": null,
      "metadata": {
        "colab": {
          "base_uri": "https://localhost:8080/",
          "height": 211
        },
        "id": "sBTj9HTnXZWB",
        "outputId": "b6db8613-a087-4bca-9c3a-f2cc3bcbe1a3"
      },
      "outputs": [
        {
          "output_type": "display_data",
          "data": {
            "text/plain": [
              "<Figure size 640x480 with 1 Axes>"
            ],
            "image/png": "[encoded data removed]"
          },
          "metadata": {}
        },
        {
          "output_type": "stream",
          "name": "stdout",
          "text": [
            "plane plane  bird   dog\n"
          ]
        }
      ],
      "source": [
        "import matplotlib.pyplot as plt\n",
        "import numpy as np\n",
        "\n",
        "def imshow(img):\n",
        "    img = img / 2 + 0.5\n",
        "    npimg = img.numpy()\n",
        "    plt.imshow(np.transpose(npimg, (1, 2, 0)))\n",
        "    plt.show()\n",
        "\n",
        "\n",
        "\n",
        "dataiter = iter(trainloader)\n",
        "images, labels = next(dataiter)\n",
        "imshow(torchvision.utils.make_grid(images))\n",
        "print(' '.join('%5s' % classes[labels[j]] for j in range(4)))"
      ]
    },
    {
      "cell_type": "markdown",
      "source": [
        "**Observations:**\n",
        "\n",
        "\n",
        "\n",
        "- The output will show an image containing four different objects: two planes, a bird, and a dog.\n",
        "- The **imshow()** function is used to display the image grid, and the labels **plane**, **plane**, **bird**, and **dog** are printed below the image.\n",
        "- This code is useful for visualizing a batch of images and their corresponding labels from a dataset."
      ],
      "metadata": {
        "id": "fR9_R6EoEPqG"
      }
    },
    {
      "cell_type": "markdown",
      "source": [
        "### Step 2: Defining the Convolutional Neural Network\n",
        "A neural network model called **Net** is defined using the PyTorch **nn.Module** class. The model incorporates multiple layers, such as convolutional layers, pooling layers, and fully connected layers. Below is a breakdown of the code:\n",
        "\n",
        "- The **Net** class is defined as a subclass of **nn.Module**.\n",
        "- The constructor **__init__** initializes the layers of the network, including two convolutional layers, **conv1** and **conv2**, two fully connected layers, **fc1** and **fc2**, and an output layer, **fc3**.\n",
        "- The **forward** method defines the forward pass of the network. It applies convolutional and pooling operations to the input **x**, reshapes it, and passes it through fully connected layers with ReLU activation functions.\n",
        "- An instance of the **Net** class is created and assigned to the variable **net**. This instance represents our neural network model."
      ],
      "metadata": {
        "id": "3jHLlaYaE82I"
      }
    },
    {
      "cell_type": "code",
      "execution_count": null,
      "metadata": {
        "id": "0seH1HKpXZWC"
      },
      "outputs": [],
      "source": [
        "import torch.nn as nn\n",
        "import torch.nn.functional as F\n",
        "\n",
        "\n",
        "class Net(nn.Module):\n",
        "    def __init__(self):\n",
        "        super(Net, self).__init__()\n",
        "        self.conv1 = nn.Conv2d(3, 6, 5)\n",
        "        self.pool = nn.MaxPool2d(2, 2)\n",
        "        self.conv2 = nn.Conv2d(6, 16, 5)\n",
        "        self.fc1 = nn.Linear(16 * 5 * 5, 120)\n",
        "        self.fc2 = nn.Linear(120, 84)\n",
        "        self.fc3 = nn.Linear(84, 10)\n",
        "\n",
        "    def forward(self, x):\n",
        "        x = self.pool(F.relu(self.conv1(x)))\n",
        "        x = self.pool(F.relu(self.conv2(x)))\n",
        "        x = x.view(-1, 16 * 5 * 5)\n",
        "        x = F.relu(self.fc1(x))\n",
        "        x = F.relu(self.fc2(x))\n",
        "        x = self.fc3(x)\n",
        "        return x\n",
        "\n",
        "\n",
        "net = Net()"
      ]
    },
    {
      "cell_type": "markdown",
      "source": [
        "### Step 3: Defining a Loss Function\n",
        "- The **nn.CrossEntropyLoss()** function is used to define the criterion or loss function for the neural network. It computes the cross-entropy loss, which is commonly used for multi-class classification tasks.\n",
        "- The **optim.SGD()** function is used to define the optimizer for the neural network. It implements the stochastic gradient descent (SGD) optimization algorithm. The optimizer takes the parameters of the network **net.parameters()** and specifies the learning rate **lr = 0.001** and momentum **momentum = 0.9** values for the optimization process.\n",
        "- These components are essential for training the neural network."
      ],
      "metadata": {
        "id": "aGc5SFPMHMI8"
      }
    },
    {
      "cell_type": "code",
      "execution_count": null,
      "metadata": {
        "id": "7jBl3g7CXZWC"
      },
      "outputs": [],
      "source": [
        "import torch.optim as optim\n",
        "\n",
        "criterion = nn.CrossEntropyLoss()\n",
        "optimizer = optim.SGD(net.parameters(), lr=0.001, momentum=0.9)"
      ]
    },
    {
      "cell_type": "markdown",
      "source": [
        "### Step 4: Training the Network on the Training Data\n",
        "- The outer loop **for epoch in range(2):** It iterates over a specified number of epochs, which determines how many times the entire training dataset will be passed through the network.\n",
        "- The **running_loss** variable is initialized to keep track of the cumulative loss during each epoch.\n",
        "- The inner loop **for i, data in enumerate(trainloader, 0)** iterates over the batches of data in the **trainloader**, which contains the training dataset divided into batches.\n",
        "- Within each iteration, the **optimizer.zero_grad()** function is called to clear the gradients of the network parameters.\n",
        "- The inputs are passed through the network using **outputs = net(inputs)**, and the predicted outputs are obtained.\n",
        "- The loss between the predicted outputs and the ground truth labels is computed using **loss = criterion(outputs, labels)**, where **criterion** is the cross-entropy loss function defined earlier.\n",
        "- The **loss.backward()** function computes the gradients of the loss with respect to the network parameters.\n",
        "- The **optimizer.step()** function updates the network parameters based on the computed gradients, using the specified optimization algorithm (SGD, in this case).\n",
        "- The **running_loss** is updated by adding the current batch loss.\n",
        "- The average loss over the previous 2000 batches is printed using **print('[%d, %5d] loss: %.3f' % (epoch + 1, i + 1, running_loss / 2000))**.\n",
        "\n",
        "\n",
        "\n"
      ],
      "metadata": {
        "id": "uxEyO7T7I74g"
      }
    },
    {
      "cell_type": "code",
      "execution_count": null,
      "metadata": {
        "colab": {
          "base_uri": "https://localhost:8080/"
        },
        "id": "nMMUQx-fXZWD",
        "outputId": "2a96cb88-d223-48e2-abda-40eef80cdd5a"
      },
      "outputs": [
        {
          "output_type": "stream",
          "name": "stderr",
          "text": [
            "Exception ignored in: <function _MultiProcessingDataLoaderIter.__del__ at 0x7f3614d2b910>\n",
            "Traceback (most recent call last):\n",
            "Exception ignored in:   File \"/usr/local/lib/python3.10/dist-packages/torch/utils/data/dataloader.py\", line 1478, in __del__\n",
            "<function _MultiProcessingDataLoaderIter.__del__ at 0x7f3614d2b910>    self._shutdown_workers()\n",
            "Traceback (most recent call last):\n",
            "  File \"/usr/local/lib/python3.10/dist-packages/torch/utils/data/dataloader.py\", line 1478, in __del__\n",
            "\n",
            "      File \"/usr/local/lib/python3.10/dist-packages/torch/utils/data/dataloader.py\", line 1461, in _shutdown_workers\n",
            "self._shutdown_workers()    if w.is_alive():\n",
            "  File \"/usr/lib/python3.10/multiprocessing/process.py\", line 160, in is_alive\n",
            "    \n",
            "assert self._parent_pid == os.getpid(), 'can only test a child process'\n",
            "AssertionError: can only test a child process  File \"/usr/local/lib/python3.10/dist-packages/torch/utils/data/dataloader.py\", line 1461, in _shutdown_workers\n",
            "\n",
            "    if w.is_alive():Exception ignored in: \n",
            "<function _MultiProcessingDataLoaderIter.__del__ at 0x7f3614d2b910>\n",
            "  File \"/usr/lib/python3.10/multiprocessing/process.py\", line 160, in is_alive\n",
            "Traceback (most recent call last):\n",
            "  File \"/usr/local/lib/python3.10/dist-packages/torch/utils/data/dataloader.py\", line 1478, in __del__\n",
            "        assert self._parent_pid == os.getpid(), 'can only test a child process'self._shutdown_workers()\n",
            "\n",
            "AssertionError  File \"/usr/local/lib/python3.10/dist-packages/torch/utils/data/dataloader.py\", line 1461, in _shutdown_workers\n",
            "    if w.is_alive():: \n",
            "can only test a child process\n",
            "  File \"/usr/lib/python3.10/multiprocessing/process.py\", line 160, in is_alive\n",
            "    \n",
            "assert self._parent_pid == os.getpid(), 'can only test a child process'AssertionErrorException ignored in: : <function _MultiProcessingDataLoaderIter.__del__ at 0x7f3614d2b910>can only test a child process\n",
            "\n",
            "Traceback (most recent call last):\n",
            "  File \"/usr/local/lib/python3.10/dist-packages/torch/utils/data/dataloader.py\", line 1478, in __del__\n",
            "    self._shutdown_workers()Exception ignored in: \n",
            "<function _MultiProcessingDataLoaderIter.__del__ at 0x7f3614d2b910>\n",
            "  File \"/usr/local/lib/python3.10/dist-packages/torch/utils/data/dataloader.py\", line 1461, in _shutdown_workers\n",
            "Traceback (most recent call last):\n",
            "  File \"/usr/local/lib/python3.10/dist-packages/torch/utils/data/dataloader.py\", line 1478, in __del__\n",
            "    if w.is_alive():    \n",
            "self._shutdown_workers()\n",
            "  File \"/usr/lib/python3.10/multiprocessing/process.py\", line 160, in is_alive\n",
            "    assert self._parent_pid == os.getpid(), 'can only test a child process'\n",
            "  File \"/usr/local/lib/python3.10/dist-packages/torch/utils/data/dataloader.py\", line 1461, in _shutdown_workers\n",
            "AssertionError    : if w.is_alive():can only test a child process\n",
            "  File \"/usr/lib/python3.10/multiprocessing/process.py\", line 160, in is_alive\n",
            "\n",
            "    assert self._parent_pid == os.getpid(), 'can only test a child process'\n",
            "AssertionError: Exception ignored in: can only test a child process<function _MultiProcessingDataLoaderIter.__del__ at 0x7f3614d2b910>\n",
            "\n",
            "Traceback (most recent call last):\n",
            "  File \"/usr/local/lib/python3.10/dist-packages/torch/utils/data/dataloader.py\", line 1478, in __del__\n",
            "    self._shutdown_workers()\n",
            "  File \"/usr/local/lib/python3.10/dist-packages/torch/utils/data/dataloader.py\", line 1461, in _shutdown_workers\n",
            "    if w.is_alive():\n",
            "  File \"/usr/lib/python3.10/multiprocessing/process.py\", line 160, in is_alive\n",
            "    assert self._parent_pid == os.getpid(), 'can only test a child process'\n",
            "AssertionError: can only test a child process\n"
          ]
        },
        {
          "output_type": "stream",
          "name": "stdout",
          "text": [
            "[1,  2000] loss: 2.190\n",
            "[1,  4000] loss: 1.861\n",
            "[1,  6000] loss: 1.656\n",
            "[1,  8000] loss: 1.552\n",
            "[1, 10000] loss: 1.509\n",
            "[1, 12000] loss: 1.478\n"
          ]
        },
        {
          "output_type": "stream",
          "name": "stderr",
          "text": [
            "Exception ignored in: <function _MultiProcessingDataLoaderIter.__del__ at 0x7f3614d2b910>\n",
            "Exception ignored in: <function _MultiProcessingDataLoaderIter.__del__ at 0x7f3614d2b910>\n",
            "Traceback (most recent call last):\n",
            "  File \"/usr/local/lib/python3.10/dist-packages/torch/utils/data/dataloader.py\", line 1478, in __del__\n",
            "Traceback (most recent call last):\n",
            "    self._shutdown_workers()  File \"/usr/local/lib/python3.10/dist-packages/torch/utils/data/dataloader.py\", line 1478, in __del__\n",
            "    self._shutdown_workers()\n",
            "  File \"/usr/local/lib/python3.10/dist-packages/torch/utils/data/dataloader.py\", line 1461, in _shutdown_workers\n",
            "    \n",
            "if w.is_alive():  File \"/usr/local/lib/python3.10/dist-packages/torch/utils/data/dataloader.py\", line 1461, in _shutdown_workers\n",
            "    \n",
            "  File \"/usr/lib/python3.10/multiprocessing/process.py\", line 160, in is_alive\n",
            "if w.is_alive():    \n",
            "assert self._parent_pid == os.getpid(), 'can only test a child process'  File \"/usr/lib/python3.10/multiprocessing/process.py\", line 160, in is_alive\n",
            "\n",
            "AssertionError    : assert self._parent_pid == os.getpid(), 'can only test a child process'can only test a child process\n",
            "\n",
            "Exception ignored in: AssertionError<function _MultiProcessingDataLoaderIter.__del__ at 0x7f3614d2b910>\n",
            "Traceback (most recent call last):\n",
            "  File \"/usr/local/lib/python3.10/dist-packages/torch/utils/data/dataloader.py\", line 1478, in __del__\n",
            "    : self._shutdown_workers()\n",
            "can only test a child process  File \"/usr/local/lib/python3.10/dist-packages/torch/utils/data/dataloader.py\", line 1461, in _shutdown_workers\n",
            "\n",
            "    if w.is_alive():Exception ignored in: <function _MultiProcessingDataLoaderIter.__del__ at 0x7f3614d2b910>\n",
            "\n",
            "Traceback (most recent call last):\n",
            "  File \"/usr/local/lib/python3.10/dist-packages/torch/utils/data/dataloader.py\", line 1478, in __del__\n",
            "  File \"/usr/lib/python3.10/multiprocessing/process.py\", line 160, in is_alive\n",
            "        self._shutdown_workers()assert self._parent_pid == os.getpid(), 'can only test a child process'\n",
            "\n",
            "  File \"/usr/local/lib/python3.10/dist-packages/torch/utils/data/dataloader.py\", line 1461, in _shutdown_workers\n",
            "    AssertionErrorif w.is_alive():\n",
            ": can only test a child process  File \"/usr/lib/python3.10/multiprocessing/process.py\", line 160, in is_alive\n",
            "    \n",
            "assert self._parent_pid == os.getpid(), 'can only test a child process'\n",
            "Exception ignored in: AssertionError<function _MultiProcessingDataLoaderIter.__del__ at 0x7f3614d2b910>: \n",
            "Traceback (most recent call last):\n",
            "  File \"/usr/local/lib/python3.10/dist-packages/torch/utils/data/dataloader.py\", line 1478, in __del__\n",
            "can only test a child process\n",
            "    self._shutdown_workers()Exception ignored in: \n",
            "  File \"/usr/local/lib/python3.10/dist-packages/torch/utils/data/dataloader.py\", line 1461, in _shutdown_workers\n",
            "    if w.is_alive():\n",
            "<function _MultiProcessingDataLoaderIter.__del__ at 0x7f3614d2b910>\n",
            "  File \"/usr/lib/python3.10/multiprocessing/process.py\", line 160, in is_alive\n",
            "Traceback (most recent call last):\n",
            "      File \"/usr/local/lib/python3.10/dist-packages/torch/utils/data/dataloader.py\", line 1478, in __del__\n",
            "assert self._parent_pid == os.getpid(), 'can only test a child process'    self._shutdown_workers()\n",
            "\n",
            "AssertionError  File \"/usr/local/lib/python3.10/dist-packages/torch/utils/data/dataloader.py\", line 1461, in _shutdown_workers\n",
            "    : can only test a child processif w.is_alive():\n",
            "\n",
            "  File \"/usr/lib/python3.10/multiprocessing/process.py\", line 160, in is_alive\n",
            "    assert self._parent_pid == os.getpid(), 'can only test a child process'\n",
            "AssertionError: can only test a child process\n"
          ]
        },
        {
          "output_type": "stream",
          "name": "stdout",
          "text": [
            "[2,  2000] loss: 1.374\n",
            "[2,  4000] loss: 1.364\n",
            "[2,  6000] loss: 1.320\n",
            "[2,  8000] loss: 1.290\n",
            "[2, 10000] loss: 1.287\n",
            "[2, 12000] loss: 1.256\n",
            "Finished Training\n"
          ]
        }
      ],
      "source": [
        "for epoch in range(2):\n",
        "\n",
        "    running_loss = 0.0\n",
        "    for i, data in enumerate(trainloader, 0):\n",
        "        inputs, labels = data\n",
        "        optimizer.zero_grad()\n",
        "\n",
        "        outputs = net(inputs)\n",
        "        loss = criterion(outputs, labels)\n",
        "        loss.backward()\n",
        "        optimizer.step()\n",
        "\n",
        "        running_loss += loss.item()\n",
        "        if i % 2000 == 1999:\n",
        "            print('[%d, %5d] loss: %.3f' %\n",
        "                  (epoch + 1, i + 1, running_loss / 2000))\n",
        "            running_loss = 0.0\n",
        "\n",
        "print('Finished Training')"
      ]
    },
    {
      "cell_type": "markdown",
      "source": [
        "**Observation:**\n",
        "- The statistics are printed for the running loss."
      ],
      "metadata": {
        "id": "2P6ovrHyK-hm"
      }
    },
    {
      "cell_type": "code",
      "execution_count": null,
      "metadata": {
        "id": "bhXTELbyXZWD"
      },
      "outputs": [],
      "source": [
        "PATH = './cifar_net.pth'\n",
        "torch.save(net.state_dict(), PATH)"
      ]
    },
    {
      "cell_type": "markdown",
      "source": [
        "### Step 5: Testing the Network on the Test Data\n",
        "- We have trained the network for two passes over the training dataset. But we need to check if the network has learned anything at all.\n",
        "\n",
        "\n",
        "- We will check this by predicting the class label that the neural network outputs and checking it against the **GroundTruth**. If the prediction is correct, we add the sample to the list of correct predictions.\n",
        "\n",
        "\n"
      ],
      "metadata": {
        "id": "u9JEq6dULQuQ"
      }
    },
    {
      "cell_type": "code",
      "execution_count": null,
      "metadata": {
        "colab": {
          "base_uri": "https://localhost:8080/",
          "height": 211
        },
        "id": "hvLvgeojXZWE",
        "outputId": "abf8eba6-53c5-4d27-e7c0-ad263591f256"
      },
      "outputs": [
        {
          "output_type": "display_data",
          "data": {
            "text/plain": [
              "<Figure size 640x480 with 1 Axes>"
            ],
            "image/png": "[encoded data removed]"
          },
          "metadata": {}
        },
        {
          "output_type": "stream",
          "name": "stdout",
          "text": [
            "GroundTruth:    cat  ship  ship plane\n"
          ]
        }
      ],
      "source": [
        "dataiter = iter(testloader)\n",
        "images, labels = next(dataiter)\n",
        "imshow(torchvision.utils.make_grid(images))\n",
        "print('GroundTruth: ', ' '.join('%5s' % classes[labels[j]] for j in range(4)))\n",
        "\n"
      ]
    },
    {
      "cell_type": "markdown",
      "source": [
        "**Observation:**\n",
        " - Image is displayed from the test set of **GroundTruth**, which consists of **cat**, **ship**, **ship** and **plane**."
      ],
      "metadata": {
        "id": "4xOVnhxSLkvd"
      }
    },
    {
      "cell_type": "code",
      "execution_count": null,
      "metadata": {
        "colab": {
          "base_uri": "https://localhost:8080/"
        },
        "id": "9hN6p78cXZWF",
        "outputId": "1e4b421a-92e3-419e-83d2-c0d2c06942e9"
      },
      "outputs": [
        {
          "output_type": "execute_result",
          "data": {
            "text/plain": [
              "<All keys matched successfully>"
            ]
          },
          "metadata": {},
          "execution_count": 56
        }
      ],
      "source": [
        "net = Net()\n",
        "net.load_state_dict(torch.load(PATH))"
      ]
    },
    {
      "cell_type": "markdown",
      "source": [
        "Predicting the Neural Network\n",
        "- The outputs are energies for the ten classes. The higher the energy for a class, the more the network thinks that the image is of that particular class."
      ],
      "metadata": {
        "id": "78OtZJfkNPp7"
      }
    },
    {
      "cell_type": "code",
      "execution_count": null,
      "metadata": {
        "id": "Nil0v351XZWF"
      },
      "outputs": [],
      "source": [
        "outputs = net(images)"
      ]
    },
    {
      "cell_type": "code",
      "execution_count": null,
      "metadata": {
        "colab": {
          "base_uri": "https://localhost:8080/"
        },
        "id": "07t4qYD4XZWF",
        "outputId": "cb4c27a4-2926-4235-9d4b-71a45e42029e"
      },
      "outputs": [
        {
          "output_type": "stream",
          "name": "stdout",
          "text": [
            "Predicted:    cat plane   car plane\n"
          ]
        }
      ],
      "source": [
        "_, predicted = torch.max(outputs, 1)\n",
        "\n",
        "print('Predicted: ', ' '.join('%5s' % classes[predicted[j]]\n",
        "                              for j in range(4)))"
      ]
    },
    {
      "cell_type": "markdown",
      "source": [
        "**Observation:**\n",
        "\n",
        "\n",
        "- The predictions of the neural network are **cat**, **plane**, **car**, and **plane**."
      ],
      "metadata": {
        "id": "YYo45pkJNxdG"
      }
    },
    {
      "cell_type": "markdown",
      "source": [
        "Performing Network on the Whole Dataset\n",
        "- It initializes the variables **correct** and **total** to keep track of the number of correct predictions and the total number of images, respectively\n",
        "- Then, it enters a loop over the test dataset and performs the following steps for each batch of images:\n",
        "  - Passes the batch of images through the network to obtain the outputs\n",
        "  - Uses the **torch.max** function to get the predicted labels by selecting the class with the highest output score\n",
        "  - Updates the **total** variable by adding the number of images in the current batch\n",
        "  - Updates the **correct** variable by adding the number of correct predictions in the current batch\n",
        "- Finally, it computes the accuracy by dividing the **correct** count by the **total** count, multiplying it by 100 to convert it to a percentage, and printing the result"
      ],
      "metadata": {
        "id": "hOWiKnPDOHr-"
      }
    },
    {
      "cell_type": "code",
      "execution_count": null,
      "metadata": {
        "colab": {
          "base_uri": "https://localhost:8080/"
        },
        "id": "-sYSzUCsXZWF",
        "outputId": "c132cf77-0fb5-4d7c-f832-3f5dedfd1179"
      },
      "outputs": [
        {
          "output_type": "stream",
          "name": "stdout",
          "text": [
            "Accuracy of the network on the 10000 test images: 54 %\n"
          ]
        }
      ],
      "source": [
        "correct = 0\n",
        "total = 0\n",
        "with torch.no_grad():\n",
        "    for data in testloader:\n",
        "        images, labels = data\n",
        "        outputs = net(images)\n",
        "        _, predicted = torch.max(outputs.data, 1)\n",
        "        total += labels.size(0)\n",
        "        correct += (predicted == labels).sum().item()\n",
        "\n",
        "print('Accuracy of the network on the 10000 test images: %d %%' % (\n",
        "    100 * correct / total))"
      ]
    },
    {
      "cell_type": "markdown",
      "source": [
        "**Observation:**\n",
        "- The accuracy of the network on the whole dataset is 54%."
      ],
      "metadata": {
        "id": "hPPLjcxROfHn"
      }
    },
    {
      "cell_type": "markdown",
      "source": [
        "Class Performs on Individual Datasets\n",
        "- It iterates over the test dataset and compares the predicted labels with the ground truth labels to determine the number of correct predictions for each class.\n",
        "- It keeps track of the total number of instances for each class and calculates the accuracy by dividing the number of correct predictions by the total number of instances for each class."
      ],
      "metadata": {
        "id": "X9jD1-1bO2MF"
      }
    },
    {
      "cell_type": "code",
      "execution_count": null,
      "metadata": {
        "colab": {
          "base_uri": "https://localhost:8080/"
        },
        "id": "hFabtTjjXZWG",
        "outputId": "a72b6a9d-0f8a-438e-b556-2a98c256bbb8"
      },
      "outputs": [
        {
          "output_type": "stream",
          "name": "stdout",
          "text": [
            "Accuracy of plane : 64 %\n",
            "Accuracy of   car : 46 %\n",
            "Accuracy of  bird : 32 %\n",
            "Accuracy of   cat : 33 %\n",
            "Accuracy of  deer : 58 %\n",
            "Accuracy of   dog : 70 %\n",
            "Accuracy of  frog : 51 %\n",
            "Accuracy of horse : 51 %\n",
            "Accuracy of  ship : 62 %\n",
            "Accuracy of truck : 76 %\n"
          ]
        }
      ],
      "source": [
        "class_correct = list(0. for i in range(10))\n",
        "class_total = list(0. for i in range(10))\n",
        "with torch.no_grad():\n",
        "    for data in testloader:\n",
        "        images, labels = data\n",
        "        outputs = net(images)\n",
        "        _, predicted = torch.max(outputs, 1)\n",
        "        c = (predicted == labels).squeeze()\n",
        "        for i in range(4):\n",
        "            label = labels[i]\n",
        "            class_correct[label] += c[i].item()\n",
        "            class_total[label] += 1\n",
        "\n",
        "\n",
        "for i in range(10):\n",
        "    print('Accuracy of %5s : %2d %%' % (\n",
        "        classes[i], 100 * class_correct[i] / class_total[i]))"
      ]
    },
    {
      "cell_type": "markdown",
      "source": [
        "**Observation:**\n",
        "\n",
        "- The model performs relatively well in predicting classes like a truck (76%), dog (70%), and plane (64%).\n",
        "- The model struggles more with classes like bird (32%), cat (33%), and frog (51%), where the accuracy is relatively lower.\n",
        "- Some classes, such as car (46%), horse (51%), and deer (58%), show moderate accuracy."
      ],
      "metadata": {
        "id": "clUl5kKbPtQk"
      }
    }
  ],
  "metadata": {
    "kernelspec": {
      "display_name": "Python 3",
      "language": "python",
      "name": "python3"
    },
    "language_info": {
      "codemirror_mode": {
        "name": "ipython",
        "version": 3
      },
      "file_extension": ".py",
      "mimetype": "text/x-python",
      "name": "python",
      "nbconvert_exporter": "python",
      "pygments_lexer": "ipython3",
      "version": "3.7.3"
    },
    "colab": {
      "provenance": [],
      "toc_visible": true
    }
  },
  "nbformat": 4,
  "nbformat_minor": 0
}