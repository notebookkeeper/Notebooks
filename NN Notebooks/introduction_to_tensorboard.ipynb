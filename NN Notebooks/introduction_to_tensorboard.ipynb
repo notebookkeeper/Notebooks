{
  "cells": [
    {
      "cell_type": "markdown",
      "metadata": {
        "id": "pmb6HGZKGbHT"
      },
      "source": [
        "# __Introduction to TensorBoard__\n",
        "\n",
        "TensorBoard serves as a tool that provides the measurements and visualizations required throughout the machine learning workflow.\n",
        "\n",
        "It allows for tracking experiment metrics such as loss and accuracy, facilitates the visualization of the model graph, and enables the projection of embeddings into a lower-dimensional space."
      ]
    },
    {
      "cell_type": "markdown",
      "metadata": {
        "id": "w4_LXGX44Kj-"
      },
      "source": [
        "## Steps to Be Followed:\n",
        "1. Loading the TensorBoard and importing the necessary libraries\n",
        "2. Importing the dataset\n",
        "3. Creating the model with dense layers\n",
        "4. Training the model using TensorFlow and Keras callback\n",
        "5. Launching the TensorBoard with parameters"
      ]
    },
    {
      "cell_type": "markdown",
      "metadata": {
        "id": "KK-2Ll2k3zN0"
      },
      "source": [
        "### Step 1: Loading the TensorBoard and Importing the Necessary Libraries\n",
        "- Load the TensorBoard extension for Jupyter Notebook\n",
        "- Import the required libraries"
      ]
    },
    {
      "cell_type": "code",
      "execution_count": 1,
      "metadata": {
        "id": "7P2m9gomGbHY"
      },
      "outputs": [],
      "source": [
        "%load_ext tensorboard"
      ]
    },
    {
      "cell_type": "code",
      "execution_count": 2,
      "metadata": {
        "id": "ACbp1bICGbHa"
      },
      "outputs": [],
      "source": [
        "import tensorflow as tf\n",
        "import datetime, os"
      ]
    },
    {
      "cell_type": "markdown",
      "metadata": {
        "id": "8rPK5qkZGbHa"
      },
      "source": [
        "### About the dataset:\n",
        "\n",
        "Fashion-MNIST is a dataset comprising Zalando's article images. It consists of a training set containing 60,000 and a test set of 10,000 examples."
      ]
    },
    {
      "cell_type": "markdown",
      "metadata": {
        "id": "Dgkl8rWbGbHa"
      },
      "source": [
        "### Step 2: Importing the Dataset\n",
        "- Load the Fashion MNIST dataset using **tf.keras.datasets.fashion_mnist**\n",
        "- Split the dataset into training and testing sets, assigning the features to **x_train** and **x_test**, and the labels to **y_train** and **y_test**\n",
        "- Normalize the pixel values of the images by dividing them by 255.0\n"
      ]
    },
    {
      "cell_type": "code",
      "execution_count": 3,
      "metadata": {
        "id": "zge2llr8GbHb",
        "colab": {
          "base_uri": "https://localhost:8080/"
        },
        "outputId": "55d76790-d265-46bb-ea91-36672089d79b"
      },
      "outputs": [
        {
          "output_type": "stream",
          "name": "stdout",
          "text": [
            "Downloading data from https://storage.googleapis.com/tensorflow/tf-keras-datasets/train-labels-idx1-ubyte.gz\n",
            "29515/29515 [==============================] - 0s 0us/step\n",
            "Downloading data from https://storage.googleapis.com/tensorflow/tf-keras-datasets/train-images-idx3-ubyte.gz\n",
            "26421880/26421880 [==============================] - 0s 0us/step\n",
            "Downloading data from https://storage.googleapis.com/tensorflow/tf-keras-datasets/t10k-labels-idx1-ubyte.gz\n",
            "5148/5148 [==============================] - 0s 0us/step\n",
            "Downloading data from https://storage.googleapis.com/tensorflow/tf-keras-datasets/t10k-images-idx3-ubyte.gz\n",
            "4422102/4422102 [==============================] - 0s 0us/step\n"
          ]
        }
      ],
      "source": [
        "fashion_mnist = tf.keras.datasets.fashion_mnist\n",
        "\n",
        "(x_train, y_train),(x_test, y_test) = fashion_mnist.load_data()\n",
        "x_train, x_test = x_train / 255.0, x_test / 255.0"
      ]
    },
    {
      "cell_type": "markdown",
      "metadata": {
        "id": "z_8t6U2y7XeT"
      },
      "source": [
        "### Step 3: Creating the Model with Dense Layers\n",
        "- Create a sequential model\n",
        "- Flatten the input shape to a one-dimensional array\n",
        "- Add a dense layer with **512** units and ReLU activation\n",
        "- Add a dropout layer with a rate of **0.2** to prevent overfitting\n",
        "- Add a dense layer with **10** units and softmax activation for multi-class classification"
      ]
    },
    {
      "cell_type": "code",
      "execution_count": 4,
      "metadata": {
        "id": "j99ZqpRyGbHb"
      },
      "outputs": [],
      "source": [
        "def create_model():\n",
        "  return tf.keras.models.Sequential([\n",
        "    tf.keras.layers.Flatten(input_shape=(28, 28)),\n",
        "    tf.keras.layers.Dense(512, activation='relu'),\n",
        "    tf.keras.layers.Dropout(0.2),\n",
        "    tf.keras.layers.Dense(10, activation='softmax')\n",
        "  ])"
      ]
    },
    {
      "cell_type": "markdown",
      "metadata": {
        "id": "S8mx5cG68E_R"
      },
      "source": [
        "### Step 4: Training the Model Using TensorFlow and Keras Callback\n",
        "- Create a model using the **create_model()** function\n",
        "- Compile the model with the Adam optimizer, sparse categorical cross-entropy loss, and accuracy as the metric\n",
        "- Specify the log directory for TensorBoard logs based on the current timestamp\n",
        "- Create a TensorBoard callback to log histograms for visualization\n",
        "- Fit the model to the training data (**x_train** and **y_train**) for 10 epochs, with validation data (**x_test** and **y_test**), and use the TensorBoard callback during training\n",
        "- Evaluate and print the test accuracy and loss"
      ]
    },
    {
      "cell_type": "code",
      "execution_count": 6,
      "metadata": {
        "id": "UzJjI7RrGbHc",
        "outputId": "d9fdef98-a44a-4e5f-9ab2-2013c2b1e2ea",
        "colab": {
          "base_uri": "https://localhost:8080/"
        }
      },
      "outputs": [
        {
          "output_type": "stream",
          "name": "stdout",
          "text": [
            "Epoch 1/10\n",
            "1875/1875 [==============================] - 24s 12ms/step - loss: 0.4957 - accuracy: 0.8220 - val_loss: 0.4253 - val_accuracy: 0.8465\n",
            "Epoch 2/10\n",
            "1875/1875 [==============================] - 22s 12ms/step - loss: 0.3857 - accuracy: 0.8604 - val_loss: 0.3927 - val_accuracy: 0.8572\n",
            "Epoch 3/10\n",
            "1875/1875 [==============================] - 23s 12ms/step - loss: 0.3512 - accuracy: 0.8711 - val_loss: 0.3793 - val_accuracy: 0.8668\n",
            "Epoch 4/10\n",
            "1875/1875 [==============================] - 22s 12ms/step - loss: 0.3294 - accuracy: 0.8792 - val_loss: 0.3627 - val_accuracy: 0.8670\n",
            "Epoch 5/10\n",
            "1875/1875 [==============================] - 24s 13ms/step - loss: 0.3124 - accuracy: 0.8836 - val_loss: 0.3388 - val_accuracy: 0.8776\n",
            "Epoch 6/10\n",
            "1875/1875 [==============================] - 21s 11ms/step - loss: 0.3038 - accuracy: 0.8871 - val_loss: 0.3459 - val_accuracy: 0.8765\n",
            "Epoch 7/10\n",
            "1875/1875 [==============================] - 22s 12ms/step - loss: 0.2894 - accuracy: 0.8914 - val_loss: 0.3466 - val_accuracy: 0.8735\n",
            "Epoch 8/10\n",
            "1875/1875 [==============================] - 22s 12ms/step - loss: 0.2791 - accuracy: 0.8968 - val_loss: 0.3423 - val_accuracy: 0.8801\n",
            "Epoch 9/10\n",
            "1875/1875 [==============================] - 23s 12ms/step - loss: 0.2710 - accuracy: 0.8990 - val_loss: 0.3347 - val_accuracy: 0.8815\n",
            "Epoch 10/10\n",
            "1875/1875 [==============================] - 21s 11ms/step - loss: 0.2665 - accuracy: 0.8992 - val_loss: 0.3523 - val_accuracy: 0.8794\n",
            "313/313 - 1s - loss: 0.3523 - accuracy: 0.8794 - 1s/epoch - 3ms/step\n",
            "\n",
            "Test accuracy: 0.8794000148773193\n",
            "Test loss: 0.3523256480693817\n"
          ]
        }
      ],
      "source": [
        "def train_model():\n",
        "\n",
        "  model = create_model()\n",
        "  model.compile(optimizer='adam',\n",
        "                loss='sparse_categorical_crossentropy',\n",
        "                metrics=['accuracy'])\n",
        "\n",
        "  logdir = os.path.join(\"logs\", datetime.datetime.now().strftime(\"%Y%m%d-%H%M%S\"))\n",
        "  tensorboard_callback = tf.keras.callbacks.TensorBoard(logdir, histogram_freq=1)\n",
        "\n",
        "  model.fit(x=x_train,\n",
        "            y=y_train,\n",
        "            epochs=10,\n",
        "            validation_data=(x_test, y_test),\n",
        "            callbacks=[tensorboard_callback])\n",
        "\n",
        "\n",
        "  test_loss, test_acc = model.evaluate(x_test, y_test, verbose=2)\n",
        "  print(\"\\nTest accuracy:\", test_acc)\n",
        "  print(\"Test loss:\", test_loss)\n",
        "\n",
        "train_model()\n"
      ]
    },
    {
      "cell_type": "markdown",
      "metadata": {
        "id": "-UH-sJIqBQxZ"
      },
      "source": [
        "__Observation:__\n",
        "- The output includes the training progress and performance metrics logged by TensorBoard during the training process.\n",
        "- The observed test accuracy of 87.94% and loss of 0.3523 indicate that the model is able to correctly classify approximately 87.94% of the unseen test data, with a moderate level of error represented by the loss value."
      ]
    },
    {
      "cell_type": "markdown",
      "metadata": {
        "id": "2T1Xjux-Hm92"
      },
      "source": [
        "### Step 5: Launching the TensorBoard with Parameters\n",
        "- The **--host 0.0.0.0** option specifies the host address to which TensorBoard is bound. In this case, it is set to bind to all available network interfaces\n",
        "-The **--port 6006** specifies the port number on which TensorBoard will be accessible\n",
        "- The **--logdir logs** specifies the directory containing the log files generated by TensorFlow, which will be used as the data source for TensorBoard"
      ]
    },
    {
      "cell_type": "code",
      "execution_count": null,
      "metadata": {
        "id": "9v3V-CBnGbHd",
        "outputId": "ad816494-5c52-4c26-ec89-8d8c45f4b0c0"
      },
      "outputs": [
        {
          "name": "stdout",
          "output_type": "stream",
          "text": [
            "\n",
            "NOTE: Using experimental fast data loading logic. To disable, pass\n",
            "    \"--load_fast=false\" and report issues on GitHub. More details:\n",
            "    https://github.com/tensorflow/tensorboard/issues/4784\n",
            "\n",
            "TensorBoard 2.8.0 at http://0.0.0.0:6006/ (Press CTRL+C to quit)\n"
          ]
        }
      ],
      "source": [
        "!tensorboard --host 0.0.0.0 --port 6006 --logdir logs"
      ]
    },
    {
      "cell_type": "markdown",
      "metadata": {
        "id": "Cx_jQgIJNmRV"
      },
      "source": [
        "__Observations:__\n",
        "- By running this code, TensorBoard is started and can be accessed through a web browser by navigating to the specified host and port.\n",
        "- TensorBoard provides various visualizations and tools for monitoring and analyzing TensorFlow runs, including model graphs, scalars, histograms, and more."
      ]
    }
  ],
  "metadata": {
    "colab": {
      "provenance": [],
      "toc_visible": true
    },
    "kernelspec": {
      "display_name": "Python 3",
      "language": "python",
      "name": "python3"
    },
    "language_info": {
      "codemirror_mode": {
        "name": "ipython",
        "version": 3
      },
      "file_extension": ".py",
      "mimetype": "text/x-python",
      "name": "python",
      "nbconvert_exporter": "python",
      "pygments_lexer": "ipython3",
      "version": "3.7.6"
    }
  },
  "nbformat": 4,
  "nbformat_minor": 0
}